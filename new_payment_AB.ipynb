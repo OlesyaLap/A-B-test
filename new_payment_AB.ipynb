{
 "cells": [
  {
   "cell_type": "markdown",
   "metadata": {},
   "source": [
    "# Задание 1. A/B–тестирование\n",
    "\n",
    "Одной из основных задач аналитика является корректное проведение экспериментов. Для этого применяется метод A/B–тестирования. В ходе тестирования одной гипотезы целевой группе была предложена новая механика оплаты услуг на сайте, у контрольной группы оставалась базовая механика. В качестве задания необходимо проанализировать итоги эксперимента и сделать вывод, стоит ли запускать новую механику оплаты на всех пользователей.\n",
    "\n",
    "Входные данные\n",
    "В качестве входных данных есть 4 csv-файла:\n",
    "groups.csv - файл с информацией о принадлежности пользователя к контрольной или экспериментальной группе (А – контроль, B – целевая группа)\n",
    "groups_add.csv - дополнительный файл с пользователями, который прислали спустя 2 дня после передачи данных\n",
    "active_studs.csv - файл с информацией о пользователях, которые зашли на платформу в дни проведения эксперимента. \n",
    "checks.csv - файл с информацией об оплатах пользователей в дни проведения эксперимента. \n",
    "\n",
    "В ходе анализа необходимо ответить на следующие вопросы:\n",
    "- На какие метрики необходимо обращать внимание в ходе анализа и почему?\n",
    "- Имеются ли различия в показателях и с чем они могут быть связаны?\n",
    "- Являются ли эти различия статистически значимыми?\n",
    "- Стоит ли запускать новую механику на всех пользователей?\n"
   ]
  },
  {
   "cell_type": "markdown",
   "metadata": {},
   "source": [
    "Перейдем к этапу загрузки файлов и предобработки данных"
   ]
  },
  {
   "cell_type": "code",
   "execution_count": 1,
   "metadata": {},
   "outputs": [],
   "source": [
    "import pandas as pd\n",
    "import numpy as np\n",
    "from scipy import stats\n",
    "import seaborn as sns\n",
    "import matplotlib.pyplot as plt\n",
    "from datetime import timedelta\n",
    "import requests\n",
    "import seaborn as sns\n",
    "import os\n",
    "from tqdm import tqdm\n",
    "import scipy.stats as ss\n",
    "from scipy.stats import norm\n",
    "from scipy.stats import levene\n",
    "from urllib.parse import urlencode\n",
    "\n",
    "os.environ['OUTDATED_IGNORE'] = '1'\n",
    "\n",
    "%matplotlib inline"
   ]
  },
  {
   "cell_type": "code",
   "execution_count": 2,
   "metadata": {},
   "outputs": [],
   "source": [
    "# Ссылки на файлы\n",
    "groups_url = r'https://disk.yandex.ru/d/UhyYx41rTt3clQ'\n",
    "groups_add_url = r'https://disk.yandex.ru/d/5Kxrz02m3IBUwQ'\n",
    "active_studs_url = r'https://disk.yandex.ru/d/Tbs44Bm6H_FwFQ'\n",
    "checks_url = r'https://disk.yandex.ru/d/pH1q-VqcxXjsVA'"
   ]
  },
  {
   "cell_type": "code",
   "execution_count": 3,
   "metadata": {},
   "outputs": [],
   "source": [
    "# Загружаем CSV-файл по указанному URL с разделителем ','\n",
    "def read_csv_yandex(url, delimiter=\",\"):\n",
    "\n",
    "    api_url = r\"https://cloud-api.yandex.net/v1/disk/public/resources/download?\"\n",
    "\n",
    "    if \"yandex\" not in url or \"ya\" not in url:\n",
    "        raise ValueError(\"URL должен быть с домена Яндекс.Диска\")\n",
    "        \n",
    "    response = requests.get(api_url, params={\"public_key\": url})\n",
    "    return pd.read_csv(response.json()[\"href\"], delimiter=delimiter)"
   ]
  },
  {
   "cell_type": "markdown",
   "metadata": {},
   "source": [
    "groups.csv - файл с информацией о принадлежности пользователя к контрольной или экспериментальной группе (А – контроль, B – целевая группа)"
   ]
  },
  {
   "cell_type": "code",
   "execution_count": 4,
   "metadata": {},
   "outputs": [
    {
     "data": {
      "text/html": [
       "<div>\n",
       "<style scoped>\n",
       "    .dataframe tbody tr th:only-of-type {\n",
       "        vertical-align: middle;\n",
       "    }\n",
       "\n",
       "    .dataframe tbody tr th {\n",
       "        vertical-align: top;\n",
       "    }\n",
       "\n",
       "    .dataframe thead th {\n",
       "        text-align: right;\n",
       "    }\n",
       "</style>\n",
       "<table border=\"1\" class=\"dataframe\">\n",
       "  <thead>\n",
       "    <tr style=\"text-align: right;\">\n",
       "      <th></th>\n",
       "      <th>id</th>\n",
       "      <th>grp</th>\n",
       "    </tr>\n",
       "  </thead>\n",
       "  <tbody>\n",
       "    <tr>\n",
       "      <th>0</th>\n",
       "      <td>1489</td>\n",
       "      <td>B</td>\n",
       "    </tr>\n",
       "    <tr>\n",
       "      <th>1</th>\n",
       "      <td>1627</td>\n",
       "      <td>A</td>\n",
       "    </tr>\n",
       "    <tr>\n",
       "      <th>2</th>\n",
       "      <td>1768</td>\n",
       "      <td>B</td>\n",
       "    </tr>\n",
       "    <tr>\n",
       "      <th>3</th>\n",
       "      <td>1783</td>\n",
       "      <td>B</td>\n",
       "    </tr>\n",
       "    <tr>\n",
       "      <th>4</th>\n",
       "      <td>1794</td>\n",
       "      <td>A</td>\n",
       "    </tr>\n",
       "  </tbody>\n",
       "</table>\n",
       "</div>"
      ],
      "text/plain": [
       "     id grp\n",
       "0  1489   B\n",
       "1  1627   A\n",
       "2  1768   B\n",
       "3  1783   B\n",
       "4  1794   A"
      ]
     },
     "execution_count": 4,
     "metadata": {},
     "output_type": "execute_result"
    }
   ],
   "source": [
    "groups = read_csv_yandex(groups_url, ';')\n",
    "groups.head()"
   ]
  },
  {
   "cell_type": "code",
   "execution_count": 5,
   "metadata": {},
   "outputs": [
    {
     "name": "stdout",
     "output_type": "stream",
     "text": [
      "<class 'pandas.core.frame.DataFrame'>\n",
      "RangeIndex: 74484 entries, 0 to 74483\n",
      "Data columns (total 2 columns):\n",
      " #   Column  Non-Null Count  Dtype \n",
      "---  ------  --------------  ----- \n",
      " 0   id      74484 non-null  int64 \n",
      " 1   grp     74484 non-null  object\n",
      "dtypes: int64(1), object(1)\n",
      "memory usage: 1.1+ MB\n"
     ]
    }
   ],
   "source": [
    "# смотрим на структуру данных\n",
    "groups.info()"
   ]
  },
  {
   "cell_type": "code",
   "execution_count": 6,
   "metadata": {},
   "outputs": [],
   "source": [
    "# приведем столбец к числовому значению\n",
    "groups['id'] = pd.to_numeric(groups['id'])"
   ]
  },
  {
   "cell_type": "code",
   "execution_count": 7,
   "metadata": {},
   "outputs": [
    {
     "data": {
      "text/plain": [
       "(74484, 2)"
      ]
     },
     "execution_count": 7,
     "metadata": {},
     "output_type": "execute_result"
    }
   ],
   "source": [
    "# проверяем количество строк\n",
    "groups.shape"
   ]
  },
  {
   "cell_type": "markdown",
   "metadata": {},
   "source": [
    "groups_add.csv - дополнительный файл с пользователями, который вам прислали спустя 2 дня после передачи данных"
   ]
  },
  {
   "cell_type": "code",
   "execution_count": 8,
   "metadata": {},
   "outputs": [
    {
     "data": {
      "text/html": [
       "<div>\n",
       "<style scoped>\n",
       "    .dataframe tbody tr th:only-of-type {\n",
       "        vertical-align: middle;\n",
       "    }\n",
       "\n",
       "    .dataframe tbody tr th {\n",
       "        vertical-align: top;\n",
       "    }\n",
       "\n",
       "    .dataframe thead th {\n",
       "        text-align: right;\n",
       "    }\n",
       "</style>\n",
       "<table border=\"1\" class=\"dataframe\">\n",
       "  <thead>\n",
       "    <tr style=\"text-align: right;\">\n",
       "      <th></th>\n",
       "      <th>id</th>\n",
       "      <th>grp</th>\n",
       "    </tr>\n",
       "  </thead>\n",
       "  <tbody>\n",
       "    <tr>\n",
       "      <th>0</th>\n",
       "      <td>5694584</td>\n",
       "      <td>B</td>\n",
       "    </tr>\n",
       "    <tr>\n",
       "      <th>1</th>\n",
       "      <td>5694830</td>\n",
       "      <td>B</td>\n",
       "    </tr>\n",
       "    <tr>\n",
       "      <th>2</th>\n",
       "      <td>5695057</td>\n",
       "      <td>B</td>\n",
       "    </tr>\n",
       "    <tr>\n",
       "      <th>3</th>\n",
       "      <td>5698872</td>\n",
       "      <td>B</td>\n",
       "    </tr>\n",
       "    <tr>\n",
       "      <th>4</th>\n",
       "      <td>5699067</td>\n",
       "      <td>B</td>\n",
       "    </tr>\n",
       "  </tbody>\n",
       "</table>\n",
       "</div>"
      ],
      "text/plain": [
       "        id grp\n",
       "0  5694584   B\n",
       "1  5694830   B\n",
       "2  5695057   B\n",
       "3  5698872   B\n",
       "4  5699067   B"
      ]
     },
     "execution_count": 8,
     "metadata": {},
     "output_type": "execute_result"
    }
   ],
   "source": [
    "groups_add = read_csv_yandex(groups_add_url)\n",
    "groups_add.head()"
   ]
  },
  {
   "cell_type": "code",
   "execution_count": 9,
   "metadata": {},
   "outputs": [
    {
     "name": "stdout",
     "output_type": "stream",
     "text": [
      "<class 'pandas.core.frame.DataFrame'>\n",
      "RangeIndex: 92 entries, 0 to 91\n",
      "Data columns (total 2 columns):\n",
      " #   Column  Non-Null Count  Dtype \n",
      "---  ------  --------------  ----- \n",
      " 0   id      92 non-null     int64 \n",
      " 1   grp     92 non-null     object\n",
      "dtypes: int64(1), object(1)\n",
      "memory usage: 1.6+ KB\n"
     ]
    }
   ],
   "source": [
    "# смотрим на структуру данных\n",
    "groups_add.info()"
   ]
  },
  {
   "cell_type": "code",
   "execution_count": 10,
   "metadata": {},
   "outputs": [],
   "source": [
    "# приведем столбец к числовому значению\n",
    "groups_add['id'] = pd.to_numeric(groups_add['id'])"
   ]
  },
  {
   "cell_type": "code",
   "execution_count": 11,
   "metadata": {},
   "outputs": [
    {
     "data": {
      "text/plain": [
       "(92, 2)"
      ]
     },
     "execution_count": 11,
     "metadata": {},
     "output_type": "execute_result"
    }
   ],
   "source": [
    "# проверяем количество строк\n",
    "groups_add.shape"
   ]
  },
  {
   "cell_type": "code",
   "execution_count": 12,
   "metadata": {},
   "outputs": [
    {
     "data": {
      "text/plain": [
       "id     92\n",
       "grp     2\n",
       "dtype: int64"
      ]
     },
     "execution_count": 12,
     "metadata": {},
     "output_type": "execute_result"
    }
   ],
   "source": [
    "# проверяем количество уникальных значений\n",
    "groups_add.nunique()"
   ]
  },
  {
   "cell_type": "markdown",
   "metadata": {},
   "source": [
    "active_studs.csv - файл с информацией о пользователях, которые зашли на платформу в дни проведения эксперимента"
   ]
  },
  {
   "cell_type": "code",
   "execution_count": 13,
   "metadata": {},
   "outputs": [
    {
     "data": {
      "text/html": [
       "<div>\n",
       "<style scoped>\n",
       "    .dataframe tbody tr th:only-of-type {\n",
       "        vertical-align: middle;\n",
       "    }\n",
       "\n",
       "    .dataframe tbody tr th {\n",
       "        vertical-align: top;\n",
       "    }\n",
       "\n",
       "    .dataframe thead th {\n",
       "        text-align: right;\n",
       "    }\n",
       "</style>\n",
       "<table border=\"1\" class=\"dataframe\">\n",
       "  <thead>\n",
       "    <tr style=\"text-align: right;\">\n",
       "      <th></th>\n",
       "      <th>student_id</th>\n",
       "    </tr>\n",
       "  </thead>\n",
       "  <tbody>\n",
       "    <tr>\n",
       "      <th>0</th>\n",
       "      <td>581585</td>\n",
       "    </tr>\n",
       "    <tr>\n",
       "      <th>1</th>\n",
       "      <td>5723133</td>\n",
       "    </tr>\n",
       "    <tr>\n",
       "      <th>2</th>\n",
       "      <td>3276743</td>\n",
       "    </tr>\n",
       "    <tr>\n",
       "      <th>3</th>\n",
       "      <td>4238589</td>\n",
       "    </tr>\n",
       "    <tr>\n",
       "      <th>4</th>\n",
       "      <td>4475369</td>\n",
       "    </tr>\n",
       "  </tbody>\n",
       "</table>\n",
       "</div>"
      ],
      "text/plain": [
       "   student_id\n",
       "0      581585\n",
       "1     5723133\n",
       "2     3276743\n",
       "3     4238589\n",
       "4     4475369"
      ]
     },
     "execution_count": 13,
     "metadata": {},
     "output_type": "execute_result"
    }
   ],
   "source": [
    "active_studs = read_csv_yandex(active_studs_url)\n",
    "active_studs.head()"
   ]
  },
  {
   "cell_type": "code",
   "execution_count": 14,
   "metadata": {},
   "outputs": [
    {
     "name": "stdout",
     "output_type": "stream",
     "text": [
      "<class 'pandas.core.frame.DataFrame'>\n",
      "RangeIndex: 8341 entries, 0 to 8340\n",
      "Data columns (total 1 columns):\n",
      " #   Column      Non-Null Count  Dtype\n",
      "---  ------      --------------  -----\n",
      " 0   student_id  8341 non-null   int64\n",
      "dtypes: int64(1)\n",
      "memory usage: 65.3 KB\n"
     ]
    }
   ],
   "source": [
    "# смотрим на структуру данных\n",
    "active_studs.info()"
   ]
  },
  {
   "cell_type": "code",
   "execution_count": 15,
   "metadata": {},
   "outputs": [
    {
     "data": {
      "text/plain": [
       "(8341, 1)"
      ]
     },
     "execution_count": 15,
     "metadata": {},
     "output_type": "execute_result"
    }
   ],
   "source": [
    "# проверяем количество строк\n",
    "active_studs.shape"
   ]
  },
  {
   "cell_type": "code",
   "execution_count": 16,
   "metadata": {},
   "outputs": [
    {
     "data": {
      "text/plain": [
       "student_id    8341\n",
       "dtype: int64"
      ]
     },
     "execution_count": 16,
     "metadata": {},
     "output_type": "execute_result"
    }
   ],
   "source": [
    "active_studs.nunique() # проверяем количество уникальных значений, задвоений нет и все student_id уникальны"
   ]
  },
  {
   "cell_type": "markdown",
   "metadata": {},
   "source": [
    "checks.csv - файл с информацией об оплатах пользователей в дни проведения эксперимента"
   ]
  },
  {
   "cell_type": "code",
   "execution_count": 17,
   "metadata": {},
   "outputs": [
    {
     "data": {
      "text/html": [
       "<div>\n",
       "<style scoped>\n",
       "    .dataframe tbody tr th:only-of-type {\n",
       "        vertical-align: middle;\n",
       "    }\n",
       "\n",
       "    .dataframe tbody tr th {\n",
       "        vertical-align: top;\n",
       "    }\n",
       "\n",
       "    .dataframe thead th {\n",
       "        text-align: right;\n",
       "    }\n",
       "</style>\n",
       "<table border=\"1\" class=\"dataframe\">\n",
       "  <thead>\n",
       "    <tr style=\"text-align: right;\">\n",
       "      <th></th>\n",
       "      <th>student_id</th>\n",
       "      <th>rev</th>\n",
       "    </tr>\n",
       "  </thead>\n",
       "  <tbody>\n",
       "    <tr>\n",
       "      <th>0</th>\n",
       "      <td>1627</td>\n",
       "      <td>990.0</td>\n",
       "    </tr>\n",
       "    <tr>\n",
       "      <th>1</th>\n",
       "      <td>3185</td>\n",
       "      <td>690.0</td>\n",
       "    </tr>\n",
       "    <tr>\n",
       "      <th>2</th>\n",
       "      <td>25973</td>\n",
       "      <td>690.0</td>\n",
       "    </tr>\n",
       "    <tr>\n",
       "      <th>3</th>\n",
       "      <td>26280</td>\n",
       "      <td>690.0</td>\n",
       "    </tr>\n",
       "    <tr>\n",
       "      <th>4</th>\n",
       "      <td>100300</td>\n",
       "      <td>990.0</td>\n",
       "    </tr>\n",
       "  </tbody>\n",
       "</table>\n",
       "</div>"
      ],
      "text/plain": [
       "   student_id    rev\n",
       "0        1627  990.0\n",
       "1        3185  690.0\n",
       "2       25973  690.0\n",
       "3       26280  690.0\n",
       "4      100300  990.0"
      ]
     },
     "execution_count": 17,
     "metadata": {},
     "output_type": "execute_result"
    }
   ],
   "source": [
    "checks = read_csv_yandex(checks_url,';')\n",
    "checks.head()"
   ]
  },
  {
   "cell_type": "code",
   "execution_count": 18,
   "metadata": {},
   "outputs": [
    {
     "name": "stdout",
     "output_type": "stream",
     "text": [
      "<class 'pandas.core.frame.DataFrame'>\n",
      "RangeIndex: 541 entries, 0 to 540\n",
      "Data columns (total 2 columns):\n",
      " #   Column      Non-Null Count  Dtype  \n",
      "---  ------      --------------  -----  \n",
      " 0   student_id  541 non-null    int64  \n",
      " 1   rev         541 non-null    float64\n",
      "dtypes: float64(1), int64(1)\n",
      "memory usage: 8.6 KB\n"
     ]
    }
   ],
   "source": [
    "# смотрим на структуру данных\n",
    "checks.info()"
   ]
  },
  {
   "cell_type": "code",
   "execution_count": 19,
   "metadata": {},
   "outputs": [],
   "source": [
    "# приведем столбец к числовому значению\n",
    "checks['rev'] = pd.to_numeric(checks['rev'])"
   ]
  },
  {
   "cell_type": "code",
   "execution_count": 20,
   "metadata": {},
   "outputs": [
    {
     "data": {
      "text/plain": [
       "(541, 2)"
      ]
     },
     "execution_count": 20,
     "metadata": {},
     "output_type": "execute_result"
    }
   ],
   "source": [
    "# проверяем количество строк\n",
    "checks.shape"
   ]
  },
  {
   "cell_type": "code",
   "execution_count": 21,
   "metadata": {},
   "outputs": [
    {
     "data": {
      "text/plain": [
       "student_id    541\n",
       "rev            39\n",
       "dtype: int64"
      ]
     },
     "execution_count": 21,
     "metadata": {},
     "output_type": "execute_result"
    }
   ],
   "source": [
    "# проверяем количество уникальных значений, все student_id уникальны\n",
    "checks.nunique()"
   ]
  },
  {
   "cell_type": "markdown",
   "metadata": {},
   "source": [
    "Создадим датафрейм groups_merged, объединив groups и groups_add"
   ]
  },
  {
   "cell_type": "code",
   "execution_count": 22,
   "metadata": {},
   "outputs": [],
   "source": [
    "groups_merged = pd.concat([groups, groups_add], ignore_index=True)"
   ]
  },
  {
   "cell_type": "code",
   "execution_count": 23,
   "metadata": {},
   "outputs": [
    {
     "data": {
      "text/html": [
       "<div>\n",
       "<style scoped>\n",
       "    .dataframe tbody tr th:only-of-type {\n",
       "        vertical-align: middle;\n",
       "    }\n",
       "\n",
       "    .dataframe tbody tr th {\n",
       "        vertical-align: top;\n",
       "    }\n",
       "\n",
       "    .dataframe thead th {\n",
       "        text-align: right;\n",
       "    }\n",
       "</style>\n",
       "<table border=\"1\" class=\"dataframe\">\n",
       "  <thead>\n",
       "    <tr style=\"text-align: right;\">\n",
       "      <th></th>\n",
       "      <th>id</th>\n",
       "      <th>grp</th>\n",
       "    </tr>\n",
       "  </thead>\n",
       "  <tbody>\n",
       "    <tr>\n",
       "      <th>0</th>\n",
       "      <td>1489</td>\n",
       "      <td>B</td>\n",
       "    </tr>\n",
       "    <tr>\n",
       "      <th>1</th>\n",
       "      <td>1627</td>\n",
       "      <td>A</td>\n",
       "    </tr>\n",
       "    <tr>\n",
       "      <th>2</th>\n",
       "      <td>1768</td>\n",
       "      <td>B</td>\n",
       "    </tr>\n",
       "    <tr>\n",
       "      <th>3</th>\n",
       "      <td>1783</td>\n",
       "      <td>B</td>\n",
       "    </tr>\n",
       "    <tr>\n",
       "      <th>4</th>\n",
       "      <td>1794</td>\n",
       "      <td>A</td>\n",
       "    </tr>\n",
       "    <tr>\n",
       "      <th>...</th>\n",
       "      <td>...</td>\n",
       "      <td>...</td>\n",
       "    </tr>\n",
       "    <tr>\n",
       "      <th>74571</th>\n",
       "      <td>200247820</td>\n",
       "      <td>B</td>\n",
       "    </tr>\n",
       "    <tr>\n",
       "      <th>74572</th>\n",
       "      <td>201032527</td>\n",
       "      <td>B</td>\n",
       "    </tr>\n",
       "    <tr>\n",
       "      <th>74573</th>\n",
       "      <td>201067612</td>\n",
       "      <td>B</td>\n",
       "    </tr>\n",
       "    <tr>\n",
       "      <th>74574</th>\n",
       "      <td>201067653</td>\n",
       "      <td>B</td>\n",
       "    </tr>\n",
       "    <tr>\n",
       "      <th>74575</th>\n",
       "      <td>201067659</td>\n",
       "      <td>B</td>\n",
       "    </tr>\n",
       "  </tbody>\n",
       "</table>\n",
       "<p>74576 rows × 2 columns</p>\n",
       "</div>"
      ],
      "text/plain": [
       "              id grp\n",
       "0           1489   B\n",
       "1           1627   A\n",
       "2           1768   B\n",
       "3           1783   B\n",
       "4           1794   A\n",
       "...          ...  ..\n",
       "74571  200247820   B\n",
       "74572  201032527   B\n",
       "74573  201067612   B\n",
       "74574  201067653   B\n",
       "74575  201067659   B\n",
       "\n",
       "[74576 rows x 2 columns]"
      ]
     },
     "execution_count": 23,
     "metadata": {},
     "output_type": "execute_result"
    }
   ],
   "source": [
    "groups_merged"
   ]
  },
  {
   "cell_type": "code",
   "execution_count": 24,
   "metadata": {},
   "outputs": [
    {
     "data": {
      "text/plain": [
       "(74576, 2)"
      ]
     },
     "execution_count": 24,
     "metadata": {},
     "output_type": "execute_result"
    }
   ],
   "source": [
    "# Проверяем добавление (должно быть 74484 из groups и 92 из groups_add = 74576)\n",
    "groups_merged.shape"
   ]
  },
  {
   "cell_type": "code",
   "execution_count": 25,
   "metadata": {},
   "outputs": [
    {
     "name": "stdout",
     "output_type": "stream",
     "text": [
      "0\n"
     ]
    }
   ],
   "source": [
    "# проверим дубликаты\n",
    "duplicates_groups_merged = groups_merged.duplicated().sum()\n",
    "print(duplicates_groups_merged)"
   ]
  },
  {
   "cell_type": "markdown",
   "metadata": {},
   "source": [
    "Объединим active_studs и checks"
   ]
  },
  {
   "cell_type": "code",
   "execution_count": 26,
   "metadata": {},
   "outputs": [],
   "source": [
    "active_checks = active_studs.merge(checks, on='student_id', how = 'left')\n",
    "# переименуем столбцы в датафрейме\n",
    "active_checks = active_checks.rename(columns = {'student_id': 'id', 'rev': 'revenue'})"
   ]
  },
  {
   "cell_type": "code",
   "execution_count": 27,
   "metadata": {},
   "outputs": [
    {
     "data": {
      "text/html": [
       "<div>\n",
       "<style scoped>\n",
       "    .dataframe tbody tr th:only-of-type {\n",
       "        vertical-align: middle;\n",
       "    }\n",
       "\n",
       "    .dataframe tbody tr th {\n",
       "        vertical-align: top;\n",
       "    }\n",
       "\n",
       "    .dataframe thead th {\n",
       "        text-align: right;\n",
       "    }\n",
       "</style>\n",
       "<table border=\"1\" class=\"dataframe\">\n",
       "  <thead>\n",
       "    <tr style=\"text-align: right;\">\n",
       "      <th></th>\n",
       "      <th>id</th>\n",
       "      <th>revenue</th>\n",
       "    </tr>\n",
       "  </thead>\n",
       "  <tbody>\n",
       "    <tr>\n",
       "      <th>0</th>\n",
       "      <td>581585</td>\n",
       "      <td>NaN</td>\n",
       "    </tr>\n",
       "    <tr>\n",
       "      <th>1</th>\n",
       "      <td>5723133</td>\n",
       "      <td>NaN</td>\n",
       "    </tr>\n",
       "    <tr>\n",
       "      <th>2</th>\n",
       "      <td>3276743</td>\n",
       "      <td>NaN</td>\n",
       "    </tr>\n",
       "    <tr>\n",
       "      <th>3</th>\n",
       "      <td>4238589</td>\n",
       "      <td>NaN</td>\n",
       "    </tr>\n",
       "    <tr>\n",
       "      <th>4</th>\n",
       "      <td>4475369</td>\n",
       "      <td>NaN</td>\n",
       "    </tr>\n",
       "  </tbody>\n",
       "</table>\n",
       "</div>"
      ],
      "text/plain": [
       "        id  revenue\n",
       "0   581585      NaN\n",
       "1  5723133      NaN\n",
       "2  3276743      NaN\n",
       "3  4238589      NaN\n",
       "4  4475369      NaN"
      ]
     },
     "execution_count": 27,
     "metadata": {},
     "output_type": "execute_result"
    }
   ],
   "source": [
    "active_checks.head()"
   ]
  },
  {
   "cell_type": "markdown",
   "metadata": {},
   "source": [
    "Видим, что не все пользователи вносили оплату, посмотрим количество таких пользователей"
   ]
  },
  {
   "cell_type": "code",
   "execution_count": 28,
   "metadata": {},
   "outputs": [
    {
     "name": "stdout",
     "output_type": "stream",
     "text": [
      "id            0\n",
      "revenue    7949\n",
      "dtype: int64\n"
     ]
    }
   ],
   "source": [
    "# Посчитаем количество значений NaN в DataFrame active_checks\n",
    "nan_count = active_checks.isna().sum()\n",
    "print(nan_count)"
   ]
  },
  {
   "cell_type": "code",
   "execution_count": 29,
   "metadata": {},
   "outputs": [
    {
     "data": {
      "text/html": [
       "<div>\n",
       "<style scoped>\n",
       "    .dataframe tbody tr th:only-of-type {\n",
       "        vertical-align: middle;\n",
       "    }\n",
       "\n",
       "    .dataframe tbody tr th {\n",
       "        vertical-align: top;\n",
       "    }\n",
       "\n",
       "    .dataframe thead th {\n",
       "        text-align: right;\n",
       "    }\n",
       "</style>\n",
       "<table border=\"1\" class=\"dataframe\">\n",
       "  <thead>\n",
       "    <tr style=\"text-align: right;\">\n",
       "      <th></th>\n",
       "      <th>id</th>\n",
       "      <th>revenue</th>\n",
       "    </tr>\n",
       "  </thead>\n",
       "  <tbody>\n",
       "    <tr>\n",
       "      <th>62</th>\n",
       "      <td>1184303</td>\n",
       "      <td>1530.0000</td>\n",
       "    </tr>\n",
       "    <tr>\n",
       "      <th>67</th>\n",
       "      <td>3354191</td>\n",
       "      <td>1900.0001</td>\n",
       "    </tr>\n",
       "    <tr>\n",
       "      <th>77</th>\n",
       "      <td>3278734</td>\n",
       "      <td>1900.0000</td>\n",
       "    </tr>\n",
       "    <tr>\n",
       "      <th>99</th>\n",
       "      <td>720651</td>\n",
       "      <td>1980.0000</td>\n",
       "    </tr>\n",
       "    <tr>\n",
       "      <th>193</th>\n",
       "      <td>1232221</td>\n",
       "      <td>1900.0000</td>\n",
       "    </tr>\n",
       "    <tr>\n",
       "      <th>...</th>\n",
       "      <td>...</td>\n",
       "      <td>...</td>\n",
       "    </tr>\n",
       "    <tr>\n",
       "      <th>8201</th>\n",
       "      <td>3890326</td>\n",
       "      <td>199.0000</td>\n",
       "    </tr>\n",
       "    <tr>\n",
       "      <th>8204</th>\n",
       "      <td>1390994</td>\n",
       "      <td>398.0000</td>\n",
       "    </tr>\n",
       "    <tr>\n",
       "      <th>8263</th>\n",
       "      <td>1516339</td>\n",
       "      <td>290.0000</td>\n",
       "    </tr>\n",
       "    <tr>\n",
       "      <th>8277</th>\n",
       "      <td>3910596</td>\n",
       "      <td>597.0000</td>\n",
       "    </tr>\n",
       "    <tr>\n",
       "      <th>8339</th>\n",
       "      <td>3610547</td>\n",
       "      <td>290.0000</td>\n",
       "    </tr>\n",
       "  </tbody>\n",
       "</table>\n",
       "<p>392 rows × 2 columns</p>\n",
       "</div>"
      ],
      "text/plain": [
       "           id    revenue\n",
       "62    1184303  1530.0000\n",
       "67    3354191  1900.0001\n",
       "77    3278734  1900.0000\n",
       "99     720651  1980.0000\n",
       "193   1232221  1900.0000\n",
       "...       ...        ...\n",
       "8201  3890326   199.0000\n",
       "8204  1390994   398.0000\n",
       "8263  1516339   290.0000\n",
       "8277  3910596   597.0000\n",
       "8339  3610547   290.0000\n",
       "\n",
       "[392 rows x 2 columns]"
      ]
     },
     "execution_count": 29,
     "metadata": {},
     "output_type": "execute_result"
    }
   ],
   "source": [
    "active_checks.query('revenue.notna()')"
   ]
  },
  {
   "cell_type": "markdown",
   "metadata": {},
   "source": [
    "Интересно, что итоговое кол-во активных оплативших (392) не равно кол-ву id в файле checks (541), получается, что 149 человек не были активны, хоть и произвели оплату, их при дальнейшем анализе мы учитывать не будем. Возможно, это какой-то автоматически настроенный платеж с айди пользователя, либо это может быть техническая ошибка при входе в систему.\n"
   ]
  },
  {
   "cell_type": "code",
   "execution_count": 30,
   "metadata": {},
   "outputs": [
    {
     "data": {
      "text/html": [
       "<div>\n",
       "<style scoped>\n",
       "    .dataframe tbody tr th:only-of-type {\n",
       "        vertical-align: middle;\n",
       "    }\n",
       "\n",
       "    .dataframe tbody tr th {\n",
       "        vertical-align: top;\n",
       "    }\n",
       "\n",
       "    .dataframe thead th {\n",
       "        text-align: right;\n",
       "    }\n",
       "</style>\n",
       "<table border=\"1\" class=\"dataframe\">\n",
       "  <thead>\n",
       "    <tr style=\"text-align: right;\">\n",
       "      <th></th>\n",
       "      <th>id</th>\n",
       "      <th>revenue</th>\n",
       "    </tr>\n",
       "  </thead>\n",
       "  <tbody>\n",
       "    <tr>\n",
       "      <th>0</th>\n",
       "      <td>581585</td>\n",
       "      <td>0.0</td>\n",
       "    </tr>\n",
       "    <tr>\n",
       "      <th>1</th>\n",
       "      <td>5723133</td>\n",
       "      <td>0.0</td>\n",
       "    </tr>\n",
       "    <tr>\n",
       "      <th>2</th>\n",
       "      <td>3276743</td>\n",
       "      <td>0.0</td>\n",
       "    </tr>\n",
       "    <tr>\n",
       "      <th>3</th>\n",
       "      <td>4238589</td>\n",
       "      <td>0.0</td>\n",
       "    </tr>\n",
       "    <tr>\n",
       "      <th>4</th>\n",
       "      <td>4475369</td>\n",
       "      <td>0.0</td>\n",
       "    </tr>\n",
       "  </tbody>\n",
       "</table>\n",
       "</div>"
      ],
      "text/plain": [
       "        id  revenue\n",
       "0   581585      0.0\n",
       "1  5723133      0.0\n",
       "2  3276743      0.0\n",
       "3  4238589      0.0\n",
       "4  4475369      0.0"
      ]
     },
     "execution_count": 30,
     "metadata": {},
     "output_type": "execute_result"
    }
   ],
   "source": [
    "# Для дальнейшего удобства заменим NaN на 0\n",
    "active_checks['revenue'] = active_checks.revenue.fillna(0)\n",
    "active_checks.head()"
   ]
  },
  {
   "cell_type": "markdown",
   "metadata": {},
   "source": [
    "Объединяем данные в один общий датасет"
   ]
  },
  {
   "cell_type": "code",
   "execution_count": 31,
   "metadata": {},
   "outputs": [
    {
     "data": {
      "text/html": [
       "<div>\n",
       "<style scoped>\n",
       "    .dataframe tbody tr th:only-of-type {\n",
       "        vertical-align: middle;\n",
       "    }\n",
       "\n",
       "    .dataframe tbody tr th {\n",
       "        vertical-align: top;\n",
       "    }\n",
       "\n",
       "    .dataframe thead th {\n",
       "        text-align: right;\n",
       "    }\n",
       "</style>\n",
       "<table border=\"1\" class=\"dataframe\">\n",
       "  <thead>\n",
       "    <tr style=\"text-align: right;\">\n",
       "      <th></th>\n",
       "      <th>id</th>\n",
       "      <th>grp</th>\n",
       "      <th>revenue</th>\n",
       "    </tr>\n",
       "  </thead>\n",
       "  <tbody>\n",
       "    <tr>\n",
       "      <th>0</th>\n",
       "      <td>1627</td>\n",
       "      <td>A</td>\n",
       "      <td>990.0</td>\n",
       "    </tr>\n",
       "    <tr>\n",
       "      <th>1</th>\n",
       "      <td>2085</td>\n",
       "      <td>B</td>\n",
       "      <td>0.0</td>\n",
       "    </tr>\n",
       "    <tr>\n",
       "      <th>2</th>\n",
       "      <td>2215</td>\n",
       "      <td>B</td>\n",
       "      <td>0.0</td>\n",
       "    </tr>\n",
       "    <tr>\n",
       "      <th>3</th>\n",
       "      <td>3391</td>\n",
       "      <td>A</td>\n",
       "      <td>0.0</td>\n",
       "    </tr>\n",
       "    <tr>\n",
       "      <th>4</th>\n",
       "      <td>3401</td>\n",
       "      <td>B</td>\n",
       "      <td>0.0</td>\n",
       "    </tr>\n",
       "  </tbody>\n",
       "</table>\n",
       "</div>"
      ],
      "text/plain": [
       "     id grp  revenue\n",
       "0  1627   A    990.0\n",
       "1  2085   B      0.0\n",
       "2  2215   B      0.0\n",
       "3  3391   A      0.0\n",
       "4  3401   B      0.0"
      ]
     },
     "execution_count": 31,
     "metadata": {},
     "output_type": "execute_result"
    }
   ],
   "source": [
    "active_groups_all = groups_merged.merge(active_checks, on='id')\n",
    "active_groups_all.head()"
   ]
  },
  {
   "cell_type": "code",
   "execution_count": 32,
   "metadata": {},
   "outputs": [
    {
     "data": {
      "text/html": [
       "<div>\n",
       "<style scoped>\n",
       "    .dataframe tbody tr th:only-of-type {\n",
       "        vertical-align: middle;\n",
       "    }\n",
       "\n",
       "    .dataframe tbody tr th {\n",
       "        vertical-align: top;\n",
       "    }\n",
       "\n",
       "    .dataframe thead th {\n",
       "        text-align: right;\n",
       "    }\n",
       "</style>\n",
       "<table border=\"1\" class=\"dataframe\">\n",
       "  <thead>\n",
       "    <tr style=\"text-align: right;\">\n",
       "      <th></th>\n",
       "      <th>id</th>\n",
       "      <th>grp</th>\n",
       "      <th>revenue</th>\n",
       "      <th>payment</th>\n",
       "    </tr>\n",
       "  </thead>\n",
       "  <tbody>\n",
       "    <tr>\n",
       "      <th>0</th>\n",
       "      <td>1627</td>\n",
       "      <td>A</td>\n",
       "      <td>990.0</td>\n",
       "      <td>1</td>\n",
       "    </tr>\n",
       "    <tr>\n",
       "      <th>1</th>\n",
       "      <td>2085</td>\n",
       "      <td>B</td>\n",
       "      <td>0.0</td>\n",
       "      <td>0</td>\n",
       "    </tr>\n",
       "    <tr>\n",
       "      <th>2</th>\n",
       "      <td>2215</td>\n",
       "      <td>B</td>\n",
       "      <td>0.0</td>\n",
       "      <td>0</td>\n",
       "    </tr>\n",
       "    <tr>\n",
       "      <th>3</th>\n",
       "      <td>3391</td>\n",
       "      <td>A</td>\n",
       "      <td>0.0</td>\n",
       "      <td>0</td>\n",
       "    </tr>\n",
       "    <tr>\n",
       "      <th>4</th>\n",
       "      <td>3401</td>\n",
       "      <td>B</td>\n",
       "      <td>0.0</td>\n",
       "      <td>0</td>\n",
       "    </tr>\n",
       "  </tbody>\n",
       "</table>\n",
       "</div>"
      ],
      "text/plain": [
       "     id grp  revenue  payment\n",
       "0  1627   A    990.0        1\n",
       "1  2085   B      0.0        0\n",
       "2  2215   B      0.0        0\n",
       "3  3391   A      0.0        0\n",
       "4  3401   B      0.0        0"
      ]
     },
     "execution_count": 32,
     "metadata": {},
     "output_type": "execute_result"
    }
   ],
   "source": [
    "# добавим колонку payment, чтобы видеть метку об оплате\n",
    "active_groups_all['payment'] = active_groups_all.revenue.apply(lambda x: 0 if x == 0 else 1)\n",
    "active_groups_all.head()"
   ]
  },
  {
   "cell_type": "code",
   "execution_count": 33,
   "metadata": {},
   "outputs": [
    {
     "data": {
      "image/png": "[encoded data removed]",
      "text/plain": [
       "<Figure size 432x288 with 1 Axes>"
      ]
     },
     "metadata": {
      "needs_background": "light"
     },
     "output_type": "display_data"
    }
   ],
   "source": [
    "# посмотрим на количественное распределение пользователей по группам\n",
    "plt.figure(figsize=(6, 4))\n",
    "sns.countplot(x='grp', data=active_groups_all)\n",
    "plt.title('Распределение пользователей по группам', fontsize=13)\n",
    "sns.set_palette(['green', 'pink']) \n",
    "\n",
    "# Увеличение размера шрифта подписей на осях\n",
    "plt.xticks(fontsize=10)\n",
    "plt.yticks(fontsize=10)\n",
    "\n",
    "plt.show()"
   ]
  },
  {
   "cell_type": "code",
   "execution_count": 34,
   "metadata": {},
   "outputs": [
    {
     "data": {
      "text/html": [
       "<div>\n",
       "<style scoped>\n",
       "    .dataframe tbody tr th:only-of-type {\n",
       "        vertical-align: middle;\n",
       "    }\n",
       "\n",
       "    .dataframe tbody tr th {\n",
       "        vertical-align: top;\n",
       "    }\n",
       "\n",
       "    .dataframe thead th {\n",
       "        text-align: right;\n",
       "    }\n",
       "</style>\n",
       "<table border=\"1\" class=\"dataframe\">\n",
       "  <thead>\n",
       "    <tr style=\"text-align: right;\">\n",
       "      <th></th>\n",
       "      <th>grp</th>\n",
       "      <th>id</th>\n",
       "    </tr>\n",
       "  </thead>\n",
       "  <tbody>\n",
       "    <tr>\n",
       "      <th>0</th>\n",
       "      <td>A</td>\n",
       "      <td>1538</td>\n",
       "    </tr>\n",
       "    <tr>\n",
       "      <th>1</th>\n",
       "      <td>B</td>\n",
       "      <td>6803</td>\n",
       "    </tr>\n",
       "  </tbody>\n",
       "</table>\n",
       "</div>"
      ],
      "text/plain": [
       "  grp    id\n",
       "0   A  1538\n",
       "1   B  6803"
      ]
     },
     "execution_count": 34,
     "metadata": {},
     "output_type": "execute_result"
    }
   ],
   "source": [
    "active_groups_all_count = active_groups_all.groupby(['grp'], as_index=False) \\\n",
    "                            .agg({'id': 'count'})\n",
    "active_groups_all_count.head()"
   ]
  },
  {
   "cell_type": "code",
   "execution_count": 35,
   "metadata": {},
   "outputs": [],
   "source": [
    "# рассмотрим распределение внутри групп\n",
    "group_a = active_groups_all.query('grp == \"A\"')\n",
    "group_b = active_groups_all.query('grp == \"B\"')"
   ]
  },
  {
   "cell_type": "code",
   "execution_count": 36,
   "metadata": {},
   "outputs": [
    {
     "data": {
      "text/html": [
       "<div>\n",
       "<style scoped>\n",
       "    .dataframe tbody tr th:only-of-type {\n",
       "        vertical-align: middle;\n",
       "    }\n",
       "\n",
       "    .dataframe tbody tr th {\n",
       "        vertical-align: top;\n",
       "    }\n",
       "\n",
       "    .dataframe thead th {\n",
       "        text-align: right;\n",
       "    }\n",
       "</style>\n",
       "<table border=\"1\" class=\"dataframe\">\n",
       "  <thead>\n",
       "    <tr style=\"text-align: right;\">\n",
       "      <th></th>\n",
       "      <th>id</th>\n",
       "      <th>grp</th>\n",
       "      <th>revenue</th>\n",
       "      <th>payment</th>\n",
       "    </tr>\n",
       "  </thead>\n",
       "  <tbody>\n",
       "    <tr>\n",
       "      <th>0</th>\n",
       "      <td>1627</td>\n",
       "      <td>A</td>\n",
       "      <td>990.0</td>\n",
       "      <td>1</td>\n",
       "    </tr>\n",
       "    <tr>\n",
       "      <th>3</th>\n",
       "      <td>3391</td>\n",
       "      <td>A</td>\n",
       "      <td>0.0</td>\n",
       "      <td>0</td>\n",
       "    </tr>\n",
       "    <tr>\n",
       "      <th>13</th>\n",
       "      <td>109623</td>\n",
       "      <td>A</td>\n",
       "      <td>0.0</td>\n",
       "      <td>0</td>\n",
       "    </tr>\n",
       "    <tr>\n",
       "      <th>15</th>\n",
       "      <td>133678</td>\n",
       "      <td>A</td>\n",
       "      <td>0.0</td>\n",
       "      <td>0</td>\n",
       "    </tr>\n",
       "    <tr>\n",
       "      <th>23</th>\n",
       "      <td>175944</td>\n",
       "      <td>A</td>\n",
       "      <td>0.0</td>\n",
       "      <td>0</td>\n",
       "    </tr>\n",
       "  </tbody>\n",
       "</table>\n",
       "</div>"
      ],
      "text/plain": [
       "        id grp  revenue  payment\n",
       "0     1627   A    990.0        1\n",
       "3     3391   A      0.0        0\n",
       "13  109623   A      0.0        0\n",
       "15  133678   A      0.0        0\n",
       "23  175944   A      0.0        0"
      ]
     },
     "execution_count": 36,
     "metadata": {},
     "output_type": "execute_result"
    }
   ],
   "source": [
    "group_a.head()"
   ]
  },
  {
   "cell_type": "code",
   "execution_count": 37,
   "metadata": {},
   "outputs": [
    {
     "data": {
      "image/png": "[encoded data removed]",
      "text/plain": [
       "<Figure size 432x288 with 1 Axes>"
      ]
     },
     "metadata": {
      "needs_background": "light"
     },
     "output_type": "display_data"
    }
   ],
   "source": [
    "group_a.revenue.hist(bins=25)\n",
    "sns.despine()"
   ]
  },
  {
   "cell_type": "code",
   "execution_count": 38,
   "metadata": {},
   "outputs": [
    {
     "data": {
      "text/html": [
       "<div>\n",
       "<style scoped>\n",
       "    .dataframe tbody tr th:only-of-type {\n",
       "        vertical-align: middle;\n",
       "    }\n",
       "\n",
       "    .dataframe tbody tr th {\n",
       "        vertical-align: top;\n",
       "    }\n",
       "\n",
       "    .dataframe thead th {\n",
       "        text-align: right;\n",
       "    }\n",
       "</style>\n",
       "<table border=\"1\" class=\"dataframe\">\n",
       "  <thead>\n",
       "    <tr style=\"text-align: right;\">\n",
       "      <th></th>\n",
       "      <th>id</th>\n",
       "      <th>grp</th>\n",
       "      <th>revenue</th>\n",
       "      <th>payment</th>\n",
       "    </tr>\n",
       "  </thead>\n",
       "  <tbody>\n",
       "    <tr>\n",
       "      <th>1</th>\n",
       "      <td>2085</td>\n",
       "      <td>B</td>\n",
       "      <td>0.0</td>\n",
       "      <td>0</td>\n",
       "    </tr>\n",
       "    <tr>\n",
       "      <th>2</th>\n",
       "      <td>2215</td>\n",
       "      <td>B</td>\n",
       "      <td>0.0</td>\n",
       "      <td>0</td>\n",
       "    </tr>\n",
       "    <tr>\n",
       "      <th>4</th>\n",
       "      <td>3401</td>\n",
       "      <td>B</td>\n",
       "      <td>0.0</td>\n",
       "      <td>0</td>\n",
       "    </tr>\n",
       "    <tr>\n",
       "      <th>5</th>\n",
       "      <td>22994</td>\n",
       "      <td>B</td>\n",
       "      <td>0.0</td>\n",
       "      <td>0</td>\n",
       "    </tr>\n",
       "    <tr>\n",
       "      <th>6</th>\n",
       "      <td>26899</td>\n",
       "      <td>B</td>\n",
       "      <td>0.0</td>\n",
       "      <td>0</td>\n",
       "    </tr>\n",
       "  </tbody>\n",
       "</table>\n",
       "</div>"
      ],
      "text/plain": [
       "      id grp  revenue  payment\n",
       "1   2085   B      0.0        0\n",
       "2   2215   B      0.0        0\n",
       "4   3401   B      0.0        0\n",
       "5  22994   B      0.0        0\n",
       "6  26899   B      0.0        0"
      ]
     },
     "execution_count": 38,
     "metadata": {},
     "output_type": "execute_result"
    }
   ],
   "source": [
    "group_b.head()"
   ]
  },
  {
   "cell_type": "code",
   "execution_count": 39,
   "metadata": {},
   "outputs": [
    {
     "data": {
      "image/png": "[encoded data removed]",
      "text/plain": [
       "<Figure size 432x288 with 1 Axes>"
      ]
     },
     "metadata": {
      "needs_background": "light"
     },
     "output_type": "display_data"
    }
   ],
   "source": [
    "group_b.revenue.hist(bins=25)\n",
    "sns.despine()"
   ]
  },
  {
   "cell_type": "markdown",
   "metadata": {},
   "source": [
    "В обоих группах видим, что большинство пользователей оплату не совершали"
   ]
  },
  {
   "cell_type": "code",
   "execution_count": 40,
   "metadata": {},
   "outputs": [],
   "source": [
    "# Cформируем датафрейм только для активных и оплативших пользователей, посмотрим его характеристики\n",
    "active_groups_all_paid = active_groups_all.query('revenue > 0')"
   ]
  },
  {
   "cell_type": "code",
   "execution_count": 41,
   "metadata": {},
   "outputs": [
    {
     "data": {
      "text/html": [
       "<div>\n",
       "<style scoped>\n",
       "    .dataframe tbody tr th:only-of-type {\n",
       "        vertical-align: middle;\n",
       "    }\n",
       "\n",
       "    .dataframe tbody tr th {\n",
       "        vertical-align: top;\n",
       "    }\n",
       "\n",
       "    .dataframe thead th {\n",
       "        text-align: right;\n",
       "    }\n",
       "</style>\n",
       "<table border=\"1\" class=\"dataframe\">\n",
       "  <thead>\n",
       "    <tr style=\"text-align: right;\">\n",
       "      <th></th>\n",
       "      <th>id</th>\n",
       "      <th>grp</th>\n",
       "      <th>revenue</th>\n",
       "      <th>payment</th>\n",
       "    </tr>\n",
       "  </thead>\n",
       "  <tbody>\n",
       "    <tr>\n",
       "      <th>0</th>\n",
       "      <td>1627</td>\n",
       "      <td>A</td>\n",
       "      <td>990.0000</td>\n",
       "      <td>1</td>\n",
       "    </tr>\n",
       "    <tr>\n",
       "      <th>10</th>\n",
       "      <td>100300</td>\n",
       "      <td>B</td>\n",
       "      <td>990.0000</td>\n",
       "      <td>1</td>\n",
       "    </tr>\n",
       "    <tr>\n",
       "      <th>12</th>\n",
       "      <td>108270</td>\n",
       "      <td>B</td>\n",
       "      <td>290.0000</td>\n",
       "      <td>1</td>\n",
       "    </tr>\n",
       "    <tr>\n",
       "      <th>246</th>\n",
       "      <td>264473</td>\n",
       "      <td>B</td>\n",
       "      <td>1900.0001</td>\n",
       "      <td>1</td>\n",
       "    </tr>\n",
       "    <tr>\n",
       "      <th>279</th>\n",
       "      <td>274352</td>\n",
       "      <td>B</td>\n",
       "      <td>690.0000</td>\n",
       "      <td>1</td>\n",
       "    </tr>\n",
       "  </tbody>\n",
       "</table>\n",
       "</div>"
      ],
      "text/plain": [
       "         id grp    revenue  payment\n",
       "0      1627   A   990.0000        1\n",
       "10   100300   B   990.0000        1\n",
       "12   108270   B   290.0000        1\n",
       "246  264473   B  1900.0001        1\n",
       "279  274352   B   690.0000        1"
      ]
     },
     "execution_count": 41,
     "metadata": {},
     "output_type": "execute_result"
    }
   ],
   "source": [
    "active_groups_all_paid.head()"
   ]
  },
  {
   "cell_type": "code",
   "execution_count": 42,
   "metadata": {},
   "outputs": [],
   "source": [
    "group_a = active_groups_all_paid.query('grp == \"A\"')\n",
    "group_b = active_groups_all_paid.query('grp == \"B\"')"
   ]
  },
  {
   "cell_type": "code",
   "execution_count": 43,
   "metadata": {},
   "outputs": [
    {
     "data": {
      "text/html": [
       "<div>\n",
       "<style scoped>\n",
       "    .dataframe tbody tr th:only-of-type {\n",
       "        vertical-align: middle;\n",
       "    }\n",
       "\n",
       "    .dataframe tbody tr th {\n",
       "        vertical-align: top;\n",
       "    }\n",
       "\n",
       "    .dataframe thead th {\n",
       "        text-align: right;\n",
       "    }\n",
       "</style>\n",
       "<table border=\"1\" class=\"dataframe\">\n",
       "  <thead>\n",
       "    <tr style=\"text-align: right;\">\n",
       "      <th></th>\n",
       "      <th>id</th>\n",
       "      <th>grp</th>\n",
       "      <th>revenue</th>\n",
       "      <th>payment</th>\n",
       "    </tr>\n",
       "  </thead>\n",
       "  <tbody>\n",
       "    <tr>\n",
       "      <th>0</th>\n",
       "      <td>1627</td>\n",
       "      <td>A</td>\n",
       "      <td>990.0</td>\n",
       "      <td>1</td>\n",
       "    </tr>\n",
       "    <tr>\n",
       "      <th>319</th>\n",
       "      <td>287008</td>\n",
       "      <td>A</td>\n",
       "      <td>1830.0</td>\n",
       "      <td>1</td>\n",
       "    </tr>\n",
       "    <tr>\n",
       "      <th>448</th>\n",
       "      <td>332387</td>\n",
       "      <td>A</td>\n",
       "      <td>2910.0</td>\n",
       "      <td>1</td>\n",
       "    </tr>\n",
       "    <tr>\n",
       "      <th>508</th>\n",
       "      <td>347455</td>\n",
       "      <td>A</td>\n",
       "      <td>2820.0</td>\n",
       "      <td>1</td>\n",
       "    </tr>\n",
       "    <tr>\n",
       "      <th>718</th>\n",
       "      <td>445767</td>\n",
       "      <td>A</td>\n",
       "      <td>3660.0</td>\n",
       "      <td>1</td>\n",
       "    </tr>\n",
       "  </tbody>\n",
       "</table>\n",
       "</div>"
      ],
      "text/plain": [
       "         id grp  revenue  payment\n",
       "0      1627   A    990.0        1\n",
       "319  287008   A   1830.0        1\n",
       "448  332387   A   2910.0        1\n",
       "508  347455   A   2820.0        1\n",
       "718  445767   A   3660.0        1"
      ]
     },
     "execution_count": 43,
     "metadata": {},
     "output_type": "execute_result"
    }
   ],
   "source": [
    "group_a.head()"
   ]
  },
  {
   "cell_type": "code",
   "execution_count": 44,
   "metadata": {},
   "outputs": [
    {
     "data": {
      "image/png": "[encoded data removed]",
      "text/plain": [
       "<Figure size 432x288 with 1 Axes>"
      ]
     },
     "metadata": {
      "needs_background": "light"
     },
     "output_type": "display_data"
    }
   ],
   "source": [
    "group_a.revenue.hist(bins=25)\n",
    "sns.despine()"
   ]
  },
  {
   "cell_type": "code",
   "execution_count": 45,
   "metadata": {},
   "outputs": [
    {
     "data": {
      "text/html": [
       "<div>\n",
       "<style scoped>\n",
       "    .dataframe tbody tr th:only-of-type {\n",
       "        vertical-align: middle;\n",
       "    }\n",
       "\n",
       "    .dataframe tbody tr th {\n",
       "        vertical-align: top;\n",
       "    }\n",
       "\n",
       "    .dataframe thead th {\n",
       "        text-align: right;\n",
       "    }\n",
       "</style>\n",
       "<table border=\"1\" class=\"dataframe\">\n",
       "  <thead>\n",
       "    <tr style=\"text-align: right;\">\n",
       "      <th></th>\n",
       "      <th>id</th>\n",
       "      <th>grp</th>\n",
       "      <th>revenue</th>\n",
       "      <th>payment</th>\n",
       "    </tr>\n",
       "  </thead>\n",
       "  <tbody>\n",
       "    <tr>\n",
       "      <th>10</th>\n",
       "      <td>100300</td>\n",
       "      <td>B</td>\n",
       "      <td>990.0000</td>\n",
       "      <td>1</td>\n",
       "    </tr>\n",
       "    <tr>\n",
       "      <th>12</th>\n",
       "      <td>108270</td>\n",
       "      <td>B</td>\n",
       "      <td>290.0000</td>\n",
       "      <td>1</td>\n",
       "    </tr>\n",
       "    <tr>\n",
       "      <th>246</th>\n",
       "      <td>264473</td>\n",
       "      <td>B</td>\n",
       "      <td>1900.0001</td>\n",
       "      <td>1</td>\n",
       "    </tr>\n",
       "    <tr>\n",
       "      <th>279</th>\n",
       "      <td>274352</td>\n",
       "      <td>B</td>\n",
       "      <td>690.0000</td>\n",
       "      <td>1</td>\n",
       "    </tr>\n",
       "    <tr>\n",
       "      <th>299</th>\n",
       "      <td>280036</td>\n",
       "      <td>B</td>\n",
       "      <td>199.0000</td>\n",
       "      <td>1</td>\n",
       "    </tr>\n",
       "  </tbody>\n",
       "</table>\n",
       "</div>"
      ],
      "text/plain": [
       "         id grp    revenue  payment\n",
       "10   100300   B   990.0000        1\n",
       "12   108270   B   290.0000        1\n",
       "246  264473   B  1900.0001        1\n",
       "279  274352   B   690.0000        1\n",
       "299  280036   B   199.0000        1"
      ]
     },
     "execution_count": 45,
     "metadata": {},
     "output_type": "execute_result"
    }
   ],
   "source": [
    "group_b.head()"
   ]
  },
  {
   "cell_type": "code",
   "execution_count": 46,
   "metadata": {},
   "outputs": [
    {
     "data": {
      "image/png": "[encoded data removed]",
      "text/plain": [
       "<Figure size 432x288 with 1 Axes>"
      ]
     },
     "metadata": {
      "needs_background": "light"
     },
     "output_type": "display_data"
    }
   ],
   "source": [
    "group_b.revenue.hist(bins=25)\n",
    "sns.despine()"
   ]
  },
  {
   "cell_type": "markdown",
   "metadata": {},
   "source": [
    "В данных по активным и оплатившим пользоваителям видим различия:\n",
    "    в группе А наибольшее количество оплат до 1000\n",
    "    в группе B есть существенное количество оплат до 1000, но преобладают оплаты около 2000, возможно именно от такой суммы чека в новой механике оплаты пользователи получали какой-то бонус в виде бесплатной доставки, подарка или промокода "
   ]
  },
  {
   "cell_type": "code",
   "execution_count": 47,
   "metadata": {},
   "outputs": [
    {
     "data": {
      "image/png": "[encoded data removed]",
      "text/plain": [
       "<Figure size 432x288 with 1 Axes>"
      ]
     },
     "metadata": {
      "needs_background": "light"
     },
     "output_type": "display_data"
    }
   ],
   "source": [
    "# посмотрим на распределение активных и плативших пользователей по группам\n",
    "sns.countplot(x='grp', data=active_groups_all_paid)\n",
    "plt.title('Распределение активных пользователей по группам')\n",
    "plt.show()"
   ]
  },
  {
   "cell_type": "code",
   "execution_count": 48,
   "metadata": {},
   "outputs": [
    {
     "data": {
      "text/html": [
       "<div>\n",
       "<style scoped>\n",
       "    .dataframe tbody tr th:only-of-type {\n",
       "        vertical-align: middle;\n",
       "    }\n",
       "\n",
       "    .dataframe tbody tr th {\n",
       "        vertical-align: top;\n",
       "    }\n",
       "\n",
       "    .dataframe thead th {\n",
       "        text-align: right;\n",
       "    }\n",
       "</style>\n",
       "<table border=\"1\" class=\"dataframe\">\n",
       "  <thead>\n",
       "    <tr style=\"text-align: right;\">\n",
       "      <th></th>\n",
       "      <th>grp</th>\n",
       "      <th>id</th>\n",
       "    </tr>\n",
       "  </thead>\n",
       "  <tbody>\n",
       "    <tr>\n",
       "      <th>0</th>\n",
       "      <td>A</td>\n",
       "      <td>78</td>\n",
       "    </tr>\n",
       "    <tr>\n",
       "      <th>1</th>\n",
       "      <td>B</td>\n",
       "      <td>314</td>\n",
       "    </tr>\n",
       "  </tbody>\n",
       "</table>\n",
       "</div>"
      ],
      "text/plain": [
       "  grp   id\n",
       "0   A   78\n",
       "1   B  314"
      ]
     },
     "execution_count": 48,
     "metadata": {},
     "output_type": "execute_result"
    }
   ],
   "source": [
    "# Получаем кол-во пользователей по группам (А – контроль (базовая механика), B – целевая группа (новая механика оплаты)) \n",
    "active_groups_count = active_groups_all_paid.groupby(['grp'], as_index=False) \\\n",
    "                            .agg({'id': 'count'})\n",
    "active_groups_count.head()"
   ]
  },
  {
   "cell_type": "code",
   "execution_count": 49,
   "metadata": {},
   "outputs": [
    {
     "data": {
      "text/html": [
       "<div>\n",
       "<style scoped>\n",
       "    .dataframe tbody tr th:only-of-type {\n",
       "        vertical-align: middle;\n",
       "    }\n",
       "\n",
       "    .dataframe tbody tr th {\n",
       "        vertical-align: top;\n",
       "    }\n",
       "\n",
       "    .dataframe thead th {\n",
       "        text-align: right;\n",
       "    }\n",
       "</style>\n",
       "<table border=\"1\" class=\"dataframe\">\n",
       "  <thead>\n",
       "    <tr style=\"text-align: right;\">\n",
       "      <th></th>\n",
       "      <th>W</th>\n",
       "      <th>pval</th>\n",
       "      <th>normal</th>\n",
       "    </tr>\n",
       "  </thead>\n",
       "  <tbody>\n",
       "    <tr>\n",
       "      <th>A</th>\n",
       "      <td>30.378420</td>\n",
       "      <td>2.531687e-07</td>\n",
       "      <td>False</td>\n",
       "    </tr>\n",
       "    <tr>\n",
       "      <th>B</th>\n",
       "      <td>6.795663</td>\n",
       "      <td>3.344572e-02</td>\n",
       "      <td>False</td>\n",
       "    </tr>\n",
       "  </tbody>\n",
       "</table>\n",
       "</div>"
      ],
      "text/plain": [
       "           W          pval  normal\n",
       "A  30.378420  2.531687e-07   False\n",
       "B   6.795663  3.344572e-02   False"
      ]
     },
     "execution_count": 49,
     "metadata": {},
     "output_type": "execute_result"
    }
   ],
   "source": [
    " # проверим на нормальность распределения active_groups_all_count\n",
    "import pingouin as pg\n",
    "result = pg.normality(data=active_groups_all_paid, dv='revenue', group='grp', method='normaltest')\n",
    "result"
   ]
  },
  {
   "cell_type": "code",
   "execution_count": 50,
   "metadata": {},
   "outputs": [
    {
     "data": {
      "text/plain": [
       "<matplotlib.axes._subplots.AxesSubplot at 0x7f0a9b57f748>"
      ]
     },
     "execution_count": 50,
     "metadata": {},
     "output_type": "execute_result"
    },
    {
     "data": {
      "image/png": "[encoded data removed]",
      "text/plain": [
       "<Figure size 432x288 with 1 Axes>"
      ]
     },
     "metadata": {},
     "output_type": "display_data"
    }
   ],
   "source": [
    "# Построим распределние revenue по группам\n",
    "sns.set(rc={'figure.figsize' : (6,4)})\n",
    "sns.set_palette(['green', 'pink'])\n",
    "sns.boxplot(y='revenue', x='grp', data = active_groups_all_paid)"
   ]
  },
  {
   "cell_type": "code",
   "execution_count": 51,
   "metadata": {},
   "outputs": [
    {
     "data": {
      "text/plain": [
       "<matplotlib.axes._subplots.AxesSubplot at 0x7f0a9b53ee48>"
      ]
     },
     "execution_count": 51,
     "metadata": {},
     "output_type": "execute_result"
    },
    {
     "data": {
      "image/png": "[encoded data removed]",
      "text/plain": [
       "<Figure size 432x288 with 1 Axes>"
      ]
     },
     "metadata": {},
     "output_type": "display_data"
    }
   ],
   "source": [
    "sns.set_palette(['green', 'pink'])\n",
    "sns.histplot(data=active_groups_all_paid, x='revenue', hue=\"grp\", binwidth = 200)"
   ]
  },
  {
   "cell_type": "markdown",
   "metadata": {},
   "source": [
    "Видим, что соотношение групп А и В для активных и оплативших пользователей сохраняется\n",
    "Распределение в группах A и B не соответствует нормальному, поэтому в качестве стат методов будем использовать непараметрические тесты, которые не требуют предположения о нормальности данных"
   ]
  },
  {
   "cell_type": "markdown",
   "metadata": {},
   "source": [
    "Проверим гомогенность дисперсии тестом Левена\n",
    "H0: выручка распределена нормально\n",
    "H1: выручка распределена ненормально"
   ]
  },
  {
   "cell_type": "code",
   "execution_count": 52,
   "metadata": {},
   "outputs": [
    {
     "name": "stdout",
     "output_type": "stream",
     "text": [
      "Статистика теста Левена: 3.075681699981606\n",
      "p-значение: 0.08025675761347022\n",
      "Нет оснований отвергать нулевую гипотезу: дисперсии равны\n"
     ]
    }
   ],
   "source": [
    "statistic, p_value = levene(group_a['revenue'], group_b['revenue'])\n",
    "print(\"Статистика теста Левена:\", statistic)\n",
    "print(\"p-значение:\", p_value)\n",
    "\n",
    "if p_value < 0.05:\n",
    "    print(\"Отвергаем нулевую гипотезу: дисперсии не равны\")\n",
    "else:\n",
    "    print(\"Нет оснований отвергать нулевую гипотезу: дисперсии равны\")"
   ]
  },
  {
   "cell_type": "markdown",
   "metadata": {},
   "source": [
    "## Вопросы для анализа:\n",
    "\n",
    "На какие метрики Вы смотрите в ходе анализа и почему?\n",
    "Имеются ли различия в показателях и с чем они могут быть связаны?\n",
    "Являются ли эти различия статистически значимыми?\n",
    "Стоит ли запускать новую механику на всех пользователей?"
   ]
  },
  {
   "cell_type": "markdown",
   "metadata": {},
   "source": [
    "Для анализа будем использовать следующие метрики: \n",
    "    CR (конверсия в покупку)  - ключевая метрика в аналитике данных, которая (в нашем случае) показывает процент пользователей, совершивших покупку от общего числа пользователей или посетителей\n",
    "    средний чек - метрика в аналитике данных, которая показывает среднюю сумму денег, которую каждый клиент тратит за одну покупку или заказ\n",
    "    ARPU - метрика, которая используется для оценки эффективности монетизации пользователей и понимания того, сколько денег в среднем приносит каждый пользователь"
   ]
  },
  {
   "cell_type": "markdown",
   "metadata": {},
   "source": [
    "### Конверсия "
   ]
  },
  {
   "cell_type": "code",
   "execution_count": 53,
   "metadata": {},
   "outputs": [
    {
     "name": "stdout",
     "output_type": "stream",
     "text": [
      "grp\n",
      "A    5.071521\n",
      "B    4.615611\n",
      "Name: revenue, dtype: float64\n"
     ]
    }
   ],
   "source": [
    "grouped_data = active_groups_all.groupby('grp')\n",
    "conversion_rate = grouped_data['revenue'].apply(lambda x: (x > 0).mean() * 100)\n",
    "print(conversion_rate.head())"
   ]
  },
  {
   "cell_type": "code",
   "execution_count": 54,
   "metadata": {},
   "outputs": [
    {
     "name": "stdout",
     "output_type": "stream",
     "text": [
      "Изменение Conversion Rate между группами A и B в процентах: -8.989623733119238%\n"
     ]
    }
   ],
   "source": [
    "cr_group_A = conversion_rate[conversion_rate.index == 'A'].values[0]\n",
    "cr_group_B = conversion_rate[conversion_rate.index == 'B'].values[0]\n",
    "\n",
    "percent_change_cr = ((cr_group_B - cr_group_A) / cr_group_A) * 100\n",
    "print(f'Изменение Conversion Rate между группами A и B в процентах: {percent_change_cr}%')\n"
   ]
  },
  {
   "cell_type": "markdown",
   "metadata": {},
   "source": [
    "Подсчеты показали, что введение нового механизма оплаты снизило конверсию на 8.99% в группе В относительно группы А. Положительного эффекта достичь не удалось, и на это может быть ряд причин: новый механизм оплаты может быть неудобен для пользователей, либо пользователи могли быть недостаточно информированы о новом механизме оплаты или его преимуществах, возможно, новый механизм оплаты мог вызвать технические проблемы или сбои в работе сервиса."
   ]
  },
  {
   "cell_type": "markdown",
   "metadata": {},
   "source": [
    "Т.к. мы хотим проверить статистическую значимость связи между категориальными переменными, воспользуемся критерием Хи-квадрат\n",
    "\n",
    "Сформулируем нулевую и альтернативную гипотезу:\n",
    "H0 - конверсия в покупку не зависит от механизма платежа, уровень значимости -  0.05\n",
    "H1 - конверсия в покупку зависит от механизма платежа"
   ]
  },
  {
   "cell_type": "code",
   "execution_count": 55,
   "metadata": {},
   "outputs": [
    {
     "data": {
      "text/html": [
       "<div>\n",
       "<style scoped>\n",
       "    .dataframe tbody tr th:only-of-type {\n",
       "        vertical-align: middle;\n",
       "    }\n",
       "\n",
       "    .dataframe tbody tr th {\n",
       "        vertical-align: top;\n",
       "    }\n",
       "\n",
       "    .dataframe thead th {\n",
       "        text-align: right;\n",
       "    }\n",
       "</style>\n",
       "<table border=\"1\" class=\"dataframe\">\n",
       "  <thead>\n",
       "    <tr style=\"text-align: right;\">\n",
       "      <th>payment</th>\n",
       "      <th>0</th>\n",
       "      <th>1</th>\n",
       "    </tr>\n",
       "    <tr>\n",
       "      <th>grp</th>\n",
       "      <th></th>\n",
       "      <th></th>\n",
       "    </tr>\n",
       "  </thead>\n",
       "  <tbody>\n",
       "    <tr>\n",
       "      <th>A</th>\n",
       "      <td>1460</td>\n",
       "      <td>78</td>\n",
       "    </tr>\n",
       "    <tr>\n",
       "      <th>B</th>\n",
       "      <td>6489</td>\n",
       "      <td>314</td>\n",
       "    </tr>\n",
       "  </tbody>\n",
       "</table>\n",
       "</div>"
      ],
      "text/plain": [
       "payment     0    1\n",
       "grp               \n",
       "A        1460   78\n",
       "B        6489  314"
      ]
     },
     "execution_count": 55,
     "metadata": {},
     "output_type": "execute_result"
    }
   ],
   "source": [
    "from scipy.stats import chi2_contingency\n",
    "\n",
    "# Создание таблицы сопряженности для теста хи-квадрат\n",
    "contingency_table = pd.crosstab(active_groups_all['grp'], active_groups_all['payment'])\n",
    "contingency_table"
   ]
  },
  {
   "cell_type": "code",
   "execution_count": 56,
   "metadata": {},
   "outputs": [
    {
     "name": "stdout",
     "output_type": "stream",
     "text": [
      "Хи-квадрат статистика: 0.48480826522557896\n",
      "P-значение: 0.48625240457231045\n",
      "Не отвергаем нулевую гипотезу: нет статистически значимой связи между механизмом платежа и конверсией в покупку.\n"
     ]
    }
   ],
   "source": [
    "# Выполнение теста хи-квадрат\n",
    "chi2, p_val, dof, expected = chi2_contingency(contingency_table)\n",
    "\n",
    "alpha = 0.05\n",
    "\n",
    "print(\"Хи-квадрат статистика:\", chi2)\n",
    "print(\"P-значение:\", p_val)\n",
    "\n",
    "if p_val < alpha:\n",
    "    print(\"Отвергаем нулевую гипотезу: есть статистически значимая связь между механизмом платежа и конверсией в покупку.\")\n",
    "else:\n",
    "    print(\"Не отвергаем нулевую гипотезу: нет статистически значимой связи между механизмом платежа и конверсией в покупку.\")"
   ]
  },
  {
   "cell_type": "markdown",
   "metadata": {},
   "source": [
    "### Средний чек"
   ]
  },
  {
   "cell_type": "code",
   "execution_count": 57,
   "metadata": {},
   "outputs": [
    {
     "data": {
      "text/plain": [
       "grp\n",
       "A     933.589744\n",
       "B    1257.878992\n",
       "Name: revenue, dtype: float64"
      ]
     },
     "execution_count": 57,
     "metadata": {},
     "output_type": "execute_result"
    }
   ],
   "source": [
    "avg_check = active_groups_all_paid[active_groups_all_paid['revenue'] > 0].groupby('grp')['revenue'].mean()\n",
    "avg_check.head()"
   ]
  },
  {
   "cell_type": "code",
   "execution_count": 58,
   "metadata": {},
   "outputs": [
    {
     "name": "stdout",
     "output_type": "stream",
     "text": [
      "Изменение среднего чека между группами A и B в процентах: 34.73573383545856%\n"
     ]
    }
   ],
   "source": [
    "avg_check_A = avg_check['A']\n",
    "avg_check_B = avg_check['B']\n",
    "\n",
    "percent_change_avg_check = ((avg_check_B - avg_check_A) / avg_check_A) * 100\n",
    "print(f'Изменение среднего чека между группами A и B в процентах: {percent_change_avg_check}%')"
   ]
  },
  {
   "cell_type": "markdown",
   "metadata": {},
   "source": [
    "Средний чек в экспериментальной группе В выше, чем в контрольной А на 34.74%, это говорит о том, что при внедрении новой механики оплаты пользователи стали тратить больше. "
   ]
  },
  {
   "cell_type": "markdown",
   "metadata": {},
   "source": [
    "Сформулируем нулевую и альтернативную гипотезу:\n",
    "H0 - средние чеки в двух группах не отличаются\n",
    "H1 - средние чеки в двух группах отличаются\n",
    "\n",
    "Для проверки выдвинутых гипотез воспользуемся методом бутстрап"
   ]
  },
  {
   "cell_type": "code",
   "execution_count": 59,
   "metadata": {},
   "outputs": [],
   "source": [
    "# функция для bootstrap\n",
    "\n",
    "def get_bootstrap(data, group_column, value_column, stat_func, boot_it=1000, bootstrap_conf_level=0.95, graph=True):\n",
    "    groups = data[group_column].unique()\n",
    "    boot_data = []\n",
    "    \n",
    "    for i in tqdm(range(boot_it), disable=not graph):\n",
    "        samples = []\n",
    "        for group in groups:\n",
    "            group_sample = data[data[group_column] == group][value_column].sample(frac=1, replace=True)\n",
    "            samples.append(stat_func(group_sample))\n",
    "        boot_data.append(samples[1] - samples[0])\n",
    "        \n",
    "    pd_boot_data = pd.DataFrame(boot_data, columns=['difference'])\n",
    "    \n",
    "    # считаем доверительный интервал\n",
    "    left_quant = (1 - bootstrap_conf_level) / 2\n",
    "    right_quant = 1 - left_quant\n",
    "    ci = pd_boot_data.quantile([left_quant, right_quant])\n",
    "    \n",
    "    # P-value\n",
    "    p_1 = norm.cdf(x=0, loc=np.mean(boot_data), scale=np.std(boot_data))\n",
    "    p_2 = norm.cdf(x=0, loc=-np.mean(boot_data), scale=np.std(boot_data))\n",
    "    p_value = min(p_1, p_2) * 2\n",
    "    \n",
    "    # График\n",
    "    if graph:\n",
    "        plt.hist(pd_boot_data['difference'], bins=50)\n",
    "        plt.style.use('ggplot')\n",
    "        plt.vlines(ci, ymin=0, ymax=max(plt.hist(pd_boot_data['difference'], bins=50)[0]), colors='red', linestyle='--')\n",
    "        plt.xlabel('Difference in ' + value_column)\n",
    "        plt.ylabel('Frequency')\n",
    "        plt.title(\"Bootstrap Distribution of Difference in \" + value_column)\n",
    "        plt.show()\n",
    "    \n",
    "    return {\"ci\": ci, \"p_value\": p_value}\n",
    "\n",
    "def aov_func(x):\n",
    "    \"\"\"Средний чек\"\"\"\n",
    "    return np.mean(x[x > 0])"
   ]
  },
  {
   "cell_type": "code",
   "execution_count": 60,
   "metadata": {},
   "outputs": [
    {
     "name": "stderr",
     "output_type": "stream",
     "text": [
      "100%|██████████| 1000/1000 [00:02<00:00, 406.17it/s]\n"
     ]
    },
    {
     "data": {
      "image/png": "[encoded data removed]",
      "text/plain": [
       "<Figure size 432x288 with 1 Axes>"
      ]
     },
     "metadata": {},
     "output_type": "display_data"
    },
    {
     "name": "stdout",
     "output_type": "stream",
     "text": [
      "Доверительные интервалы для среднего чека:\n",
      "       difference\n",
      "0.025   86.025124\n",
      "0.975  536.843618\n",
      "P-value для среднего чека: 0.005179647252337219\n"
     ]
    }
   ],
   "source": [
    "result_aov = get_bootstrap(data=active_groups_all_paid, group_column='grp', value_column='revenue', stat_func=aov_func)\n",
    "print(\"Доверительные интервалы для среднего чека:\")\n",
    "print(result_aov[\"ci\"])\n",
    "print(\"P-value для среднего чека:\", result_aov[\"p_value\"])\n",
    "\n"
   ]
  },
  {
   "cell_type": "markdown",
   "metadata": {},
   "source": [
    "Вывод: отвергаем H0, различие в чеках двух групп статистически значимы, новая механика повышает средний чек"
   ]
  },
  {
   "cell_type": "markdown",
   "metadata": {},
   "source": [
    "### ARPU"
   ]
  },
  {
   "cell_type": "code",
   "execution_count": 61,
   "metadata": {},
   "outputs": [],
   "source": [
    "paid_A = active_groups_all_paid.query('grp == \"A\"')\n",
    "paid_B = active_groups_all_paid.query('grp == \"B\"')"
   ]
  },
  {
   "cell_type": "code",
   "execution_count": 62,
   "metadata": {},
   "outputs": [
    {
     "name": "stdout",
     "output_type": "stream",
     "text": [
      "47.34720416124838\n",
      "58.05879810377775\n"
     ]
    }
   ],
   "source": [
    "ARPU_A = paid_A['revenue'].sum() / active_groups_all.query('grp == \"A\"')['id'].count()\n",
    "ARPU_B = paid_B['revenue'].sum() / active_groups_all.query('grp == \"B\"')['id'].count()\n",
    "\n",
    "print(ARPU_A)\n",
    "print(ARPU_B)"
   ]
  },
  {
   "cell_type": "code",
   "execution_count": 63,
   "metadata": {},
   "outputs": [
    {
     "name": "stdout",
     "output_type": "stream",
     "text": [
      "Процентное изменение: 22.62349832959375%\n"
     ]
    }
   ],
   "source": [
    "# посмотрим на процентное соотношение\n",
    "percent_change_ARPU = (ARPU_B - ARPU_A) / ARPU_A * 100\n",
    "print(f'Процентное изменение: {percent_change_ARPU}%')"
   ]
  },
  {
   "cell_type": "markdown",
   "metadata": {},
   "source": [
    "Средняя выручка, которую приносит один пользователь в экспериментальной группе больше В, чем в тестовой А, такое увеличение может быть результатом более высокого среднего чека, что показывает эффективность внедрения нового механизма оплаты."
   ]
  },
  {
   "cell_type": "markdown",
   "metadata": {},
   "source": [
    "Сформулируем нулевую и альтернативную гипотезу:\n",
    "H0 - ARPU в двух группах не отличается\n",
    "H1 - ARPU в двух группах отличается\n",
    "\n",
    "Для проверки выдвинутых гипотез применим т-тест Уэлча"
   ]
  },
  {
   "cell_type": "code",
   "execution_count": 64,
   "metadata": {},
   "outputs": [
    {
     "name": "stdout",
     "output_type": "stream",
     "text": [
      "Значение t-статистики: -2.861689755269415\n",
      "p-значение: 0.005069734012800116\n"
     ]
    }
   ],
   "source": [
    "# Выполняем т-тест Уэлча\n",
    "t_stat, p_value = stats.ttest_ind(paid_A['revenue'], paid_B['revenue'], equal_var=False)\n",
    "\n",
    "print(f\"Значение t-статистики: {t_stat}\")\n",
    "print(f\"p-значение: {p_value}\")"
   ]
  },
  {
   "cell_type": "markdown",
   "metadata": {},
   "source": [
    "Можно сделать вывод о статистической значимости различий между ARPU групп A и B, мы можем отвергнуть нулевую гипотезу о равенстве ARPU в группах A и B"
   ]
  },
  {
   "cell_type": "markdown",
   "metadata": {},
   "source": [
    "## Вывод\n",
    "\n",
    "Для проведения анализа эффективности внедрения нового механизма оплаты были рассмотрены три метрики:\n",
    "CR в покупку - наблюдалось снижение конверсии на 8.99%, но при этом применение стат тестов показало, что нет статистически значимой связи между механизмом платежа и конверсией в покупку.\n",
    "Средний чек - вырос 34.74%, по результатам проведения стат тестов, выявленное различие в среднем чеке между группами является статистически значимым.\n",
    "ARPU - средняя выручка выросла на 22.62%, есть стат значимое различие между группами.\n",
    "\n",
    "Исходя из проанализированных данных, можно рекомендовать внедрение нового механизма оплаты "
   ]
  },
  {
   "cell_type": "code",
   "execution_count": null,
   "metadata": {},
   "outputs": [],
   "source": []
  },
  {
   "cell_type": "code",
   "execution_count": null,
   "metadata": {},
   "outputs": [],
   "source": []
  },
  {
   "cell_type": "markdown",
   "metadata": {},
   "source": [
    "# Задание 2"
   ]
  },
  {
   "cell_type": "markdown",
   "metadata": {},
   "source": [
    "### Необходимо реализовать функцию, которая будет автоматически подгружать информацию из дополнительного файла groups_add.csv (заголовки могут отличаться) и на основании дополнительных параметров пересчитывать метрики.\n"
   ]
  },
  {
   "cell_type": "code",
   "execution_count": 65,
   "metadata": {},
   "outputs": [
    {
     "name": "stdout",
     "output_type": "stream",
     "text": [
      "Конверсия в покупку для контрольной (А) группы: 5.071521456436931\n",
      "Конверсия в покупку для тестовой (В) группы: 4.615610759958842\n",
      "Средний чек для контрольной(А) группы: 933.5897435897435\n",
      "Средний чек для тестовой(B) группы: 1257.878992038217\n",
      "ARPU для контрольной(А) группы: 47.34720416124838\n",
      "ARPU для тестовой(В) группы: 58.05879810377775\n"
     ]
    }
   ],
   "source": [
    "def metrics_upd (groups, groups_add, active_studs, checks):\n",
    "    base_url = 'https://cloud-api.yandex.net/v1/disk/public/resources/download?'\n",
    "    public_key_groups_add = 'https://disk.yandex.ru/d/5Kxrz02m3IBUwQ'\n",
    "    final_url_groups_add = base_url + urlencode(dict(public_key=public_key_groups_add))\n",
    "    response_groups_add = requests.get(final_url_groups_add)\n",
    "    download_url_groups_add = response_groups_add.json()['href']\n",
    "    groups_add = pd.read_csv(download_url_groups_add) \n",
    "    \n",
    "    #В задании отмечено, что заголовки таблицы могут отличаться. Переименуем их  \n",
    "    groups_add.rename(columns=({groups_add.columns[0]: 'id', groups_add.columns[1]: 'grp'}), inplace=True)   \n",
    "   \n",
    "    # Объединяем датафреймы\n",
    "    groups_merged = pd.concat([groups, groups_add], ignore_index=True)\n",
    "    active_checks = active_studs.merge(checks, on='student_id', how = 'left')\n",
    "    \n",
    "    # Переименовываем столбцы в полученном датафрейме\n",
    "    active_checks = active_checks.rename(columns = {'student_id': 'id', 'rev': 'revenue'})\n",
    "    # Для дальнейшего удобства заменим NaN на 0\n",
    "    active_checks['revenue'] = active_checks.revenue.fillna(0)\n",
    "    \n",
    "    # Объединяем groups_merged и active_checks\n",
    "    active_groups_all = groups_merged.merge(active_checks, on='id')\n",
    "    \n",
    "    # добавим колонку payment, чтобы видеть метку об оплате\n",
    "    active_groups_all['payment'] = active_groups_all.revenue.apply(lambda x: 0 if x == 0 else 1)\n",
    "\n",
    "    # Cформируем датафрейм только для активных и оплативших пользователей\n",
    "    active_groups_all_paid = active_groups_all.query('revenue > 0')\n",
    "    \n",
    "    # Рассчитываем CR (Conversion Rate) для каждой группы \n",
    "    grouped_data = active_groups_all.groupby('grp')\n",
    "    conversion_rate = grouped_data['revenue'].apply(lambda x: (x > 0).mean() * 100)\n",
    "    cr_group_A = conversion_rate[conversion_rate.index == 'A'].values[0]\n",
    "    cr_group_B = conversion_rate[conversion_rate.index == 'B'].values[0]\n",
    "    \n",
    "    # Рассчитываем средний чек для каждой группы \n",
    "    avg_check = active_groups_all_paid[active_groups_all_paid['revenue'] > 0].groupby('grp')['revenue'].mean()\n",
    "    avg_check_A = avg_check['A']\n",
    "    avg_check_B = avg_check['B']\n",
    "    \n",
    "    # Рассчитываем ARPU (Average Revenue Per User) для каждой группы\n",
    "    paid_A = active_groups_all_paid.query('grp == \"A\"')\n",
    "    paid_B = active_groups_all_paid.query('grp == \"B\"')\n",
    "    ARPU_A = paid_A['revenue'].sum() / active_groups_all.query('grp == \"A\"')['id'].count()\n",
    "    ARPU_B = paid_B['revenue'].sum() / active_groups_all.query('grp == \"B\"')['id'].count()\n",
    "    \n",
    "    print('Конверсия в покупку для контрольной (А) группы:', cr_group_A)\n",
    "    print('Конверсия в покупку для тестовой (В) группы:',  cr_group_B)\n",
    "    print('Средний чек для контрольной(А) группы:', avg_check_A)\n",
    "    print('Средний чек для тестовой(B) группы:', avg_check_B)\n",
    "    print('ARPU для контрольной(А) группы:', ARPU_A)\n",
    "    print('ARPU для тестовой(В) группы:', ARPU_B)\n",
    "    \n",
    "    df_metrics = pd.DataFrame({\n",
    "        'group': ['A', 'B'],\n",
    "        'CR': [cr_group_A, cr_group_B],\n",
    "        'avg_check': [avg_check_A, avg_check_B],\n",
    "        'ARPU': [ARPU_A, ARPU_B]\n",
    "    })\n",
    "    \n",
    "    return df_metrics\n",
    "\n",
    "result_metrics_upd = metrics_upd(groups, groups_add, active_studs, checks)"
   ]
  },
  {
   "cell_type": "code",
   "execution_count": 66,
   "metadata": {},
   "outputs": [
    {
     "data": {
      "text/html": [
       "<div>\n",
       "<style scoped>\n",
       "    .dataframe tbody tr th:only-of-type {\n",
       "        vertical-align: middle;\n",
       "    }\n",
       "\n",
       "    .dataframe tbody tr th {\n",
       "        vertical-align: top;\n",
       "    }\n",
       "\n",
       "    .dataframe thead th {\n",
       "        text-align: right;\n",
       "    }\n",
       "</style>\n",
       "<table border=\"1\" class=\"dataframe\">\n",
       "  <thead>\n",
       "    <tr style=\"text-align: right;\">\n",
       "      <th></th>\n",
       "      <th>group</th>\n",
       "      <th>CR</th>\n",
       "      <th>avg_check</th>\n",
       "      <th>ARPU</th>\n",
       "    </tr>\n",
       "  </thead>\n",
       "  <tbody>\n",
       "    <tr>\n",
       "      <th>0</th>\n",
       "      <td>A</td>\n",
       "      <td>5.071521</td>\n",
       "      <td>933.589744</td>\n",
       "      <td>47.347204</td>\n",
       "    </tr>\n",
       "    <tr>\n",
       "      <th>1</th>\n",
       "      <td>B</td>\n",
       "      <td>4.615611</td>\n",
       "      <td>1257.878992</td>\n",
       "      <td>58.058798</td>\n",
       "    </tr>\n",
       "  </tbody>\n",
       "</table>\n",
       "</div>"
      ],
      "text/plain": [
       "  group        CR    avg_check       ARPU\n",
       "0     A  5.071521   933.589744  47.347204\n",
       "1     B  4.615611  1257.878992  58.058798"
      ]
     },
     "execution_count": 66,
     "metadata": {},
     "output_type": "execute_result"
    }
   ],
   "source": [
    "result_metrics_upd"
   ]
  },
  {
   "cell_type": "markdown",
   "metadata": {},
   "source": [
    "### Реализуйте функцию, которая будет строить графики по получаемым метрикам"
   ]
  },
  {
   "cell_type": "code",
   "execution_count": 67,
   "metadata": {},
   "outputs": [
    {
     "data": {
      "image/png": "[encoded data removed]",
      "text/plain": [
       "<Figure size 432x864 with 3 Axes>"
      ]
     },
     "metadata": {},
     "output_type": "display_data"
    }
   ],
   "source": [
    "def visualize_metrics(result_metrics_upd):\n",
    "    plt.figure(figsize=(6, 12))\n",
    "\n",
    "    # График для метрики CR\n",
    "    plt.subplot(3, 1, 1)\n",
    "    plt.bar(result_metrics_upd['group'], result_metrics_upd['CR'], color='skyblue')\n",
    "    plt.xlabel('Group')\n",
    "    plt.ylabel('CR')\n",
    "    plt.title('Conversion Rate (CR) Comparison')\n",
    "\n",
    "    # График для метрики avg_check\n",
    "    plt.subplot(3, 1, 2)\n",
    "    plt.bar(result_metrics_upd['group'], result_metrics_upd['avg_check'], color='pink')\n",
    "    plt.xlabel('Group')\n",
    "    plt.ylabel('Average Check')\n",
    "    plt.title('Average Check Comparison')\n",
    "\n",
    "    # График для метрики ARPU\n",
    "    plt.subplot(3, 1, 3)\n",
    "    plt.bar(result_metrics_upd['group'], result_metrics_upd['ARPU'], color='green')\n",
    "    plt.xlabel('Group')\n",
    "    plt.ylabel('ARPU')\n",
    "    plt.title('Average Revenue Per User (ARPU) Comparison')\n",
    "\n",
    "    plt.tight_layout()\n",
    "    plt.show()\n",
    "\n",
    "# Вызов функции для визуализации метрик из DataFrame result_metrics_upd\n",
    "visualize_metrics(result_metrics_upd)\n",
    "\n"
   ]
  },
  {
   "cell_type": "code",
   "execution_count": null,
   "metadata": {},
   "outputs": [],
   "source": []
  }
 ],
 "metadata": {
  "kernelspec": {
   "display_name": "Python 3",
   "language": "python",
   "name": "python3"
  },
  "language_info": {
   "codemirror_mode": {
    "name": "ipython",
    "version": 3
   },
   "file_extension": ".py",
   "mimetype": "text/x-python",
   "name": "python",
   "nbconvert_exporter": "python",
   "pygments_lexer": "ipython3",
   "version": "3.7.3"
  }
 },
 "nbformat": 4,
 "nbformat_minor": 4
}
